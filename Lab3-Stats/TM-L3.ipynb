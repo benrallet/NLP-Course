{
 "cells": [
  {
   "cell_type": "markdown",
   "metadata": {},
   "source": [
    "## L3: Topic Models\n",
    "### 732A92/TDDE16 Text Mining\n",
    "Måns Magnusson"
   ]
  },
  {
   "cell_type": "markdown",
   "metadata": {},
   "source": [
    "The purpose of this lab is to implement the standard Gibbs sampling algorithm for Latent Dirichlet Allocation in Python. You will be supplied starter code, a smaller corpus with State of the Union addresses for the period 1975 to 2000 by paragraph and a list with English stopwords. The code is implemented as a class, TopicModel, where you are expected to replace central parts of the code with your own implementations."
   ]
  },
  {
   "cell_type": "markdown",
   "metadata": {},
   "source": [
    "### 1. Sampling\n",
    "\n",
    "Implement the basic collapsed Gibbs sampling algorithm for Latent Dirichlet Allocation. Use the starter code and add the components that is missing (the sampler part). We use the fact that \n",
    "\n",
    "$$p(z_{i}=k)\\propto\\left(\\alpha+n_{d,k}^{(d)}\\right)\\frac{\\left(\\beta+n_{k,w_{i}}^{(w)}\\right)}{\\sum^{V}\\left(\\beta+n_{k,w_{i}}^{(w)}\\right)}=\\left(\\alpha+n_{d,k}^{(d)}\\right)\\frac{\\left(\\beta+n_{k,w_{i}}^{(w)}\\right)}{V\\beta+n_{k}}$$\n",
    "\n",
    "to simplify computations, where $K$ is the number of topics, $V$ is the vocabulary size and $D$ is the number of documents. $\\mathbf{n}^{(d)}$ is a count matrix of size $D\\times K$ with the number of topic indicators by document, $d$, and topic $k$, $\\mathbf{n}^{(w)}$ is a count matrix of size $K\\times V$ with the number of topic indicators by topic, $k$, and word type, $w$. $\\mathbf{n}$ is a topic indicator count vector of length $K$ that contain the number of topic indicators in each topic. The detailed algorithm can be found below:"
   ]
  },
  {
   "cell_type": "markdown",
   "metadata": {},
   "source": [
    "__Data:__ tokenized corpus $\\mathbf{w}$, priors $\\alpha, \\beta$ <br>\n",
    "__Result:__ topic indicators $\\mathbf{z}$\n",
    "\n",
    "Init topic indicators $\\mathbf{z}$ randomly per token<br>\n",
    "Init topic probability vector $\\mathbf{p}$<br>\n",
    "Sum up $\\mathbf{z}$ to $\\mathbf{n}^{w}$, the topic type count matrix of size ($K \\times V$)<br>\n",
    "Sum up $\\mathbf{z}$ to $\\mathbf{n}^{d}$, the document topic count matrix of size ($D \\times K$)<br>\n",
    "Sum up $\\mathbf{z}$ to $\\mathbf{n}$, the topic count vector of length ($K$)<br>\n",
    "\n",
    "for $g \\leftarrow 1$ __to__ _no_\\__iterations_ __do__<br>\n",
    "&emsp;&emsp;// Iterate over all tokens<br>\n",
    "&emsp;&emsp;for $i \\leftarrow 1$ __to__ $N$ __do__<br>\n",
    "&emsp;&emsp;&emsp;&emsp;// Remove current topic indicator $z_i$ from $\\mathbf{n}^{w}$, $\\mathbf{n}^{d}$ and $\\mathbf{n}$<br>\n",
    "&emsp;&emsp;&emsp;&emsp;$n^{(w)}_{z_i,w_i}$ =- 1, $n^{(d)}_{d_i,z_i}$ =- 1, $n_{z_i}$ =- 1<br>\n",
    "&emsp;&emsp;&emsp;&emsp;for $k \\leftarrow 1$ __to__ $K$ __do__<br>\n",
    "&emsp;&emsp;&emsp;&emsp;&emsp;&emsp;// Compute the unnormalized probability of each topic indicator<br>\n",
    "&emsp;&emsp;&emsp;&emsp;&emsp;&emsp;$\\mathbf{p}_k \\leftarrow \\left(\\alpha+n_{d,k}^{(d)}\\right)\\frac{\\left(\\beta+n_{k,w_{i}}^{(w)}\\right)}{\\left(V\\beta+n_{k}\\right)}$<br>\n",
    "&emsp;&emsp;&emsp;&emsp;__end__<br>\n",
    "&emsp;&emsp;&emsp;&emsp;// Sample the topic indicator<br>\n",
    "&emsp;&emsp;&emsp;&emsp;$z_i \\leftarrow $ Categorical($\\mathbf{p}$)<br>\n",
    "&emsp;&emsp;&emsp;&emsp;// Add the new topic indicator $z_i$ to $\\mathbf{n}^{w}$, $\\mathbf{n}^{d}$ and $\\mathbf{n}$<br>\n",
    "&emsp;&emsp;&emsp;&emsp;$n^{(w)}_{z_i,w_i}$ =+ 1, $n^{(d)}_{d_i,z_i}$ =+ 1, $n_{z_i}$ =+ 1<br>\n",
    "&emsp;&emsp;__end__<br>\n",
    "__end__"
   ]
  },
  {
   "cell_type": "markdown",
   "metadata": {},
   "source": [
    "For a complete derivation of the collapsed Gibbs sampler for LDA, see https://lingpipe.files.wordpress.com/2010/07/lda3.pdf."
   ]
  },
  {
   "cell_type": "code",
   "execution_count": 77,
   "metadata": {
    "collapsed": true
   },
   "outputs": [],
   "source": [
    "import numpy, random, scipy.special, math\n",
    "import matplotlib.pyplot as plt\n",
    "\n",
    "class MyGibbs():\n",
    "    \n",
    "    def initialize_matrices(self):\n",
    "        \"\"\"Initializes numpy arrays for the matrix computations performed\n",
    "        by the sampler during the MCMC process.\"\"\"\n",
    "        ## Set up numpy matrices\n",
    "        self.term_topics = numpy.zeros((self.num_terms, self.num_topics))\n",
    "        self.doc_topics = numpy.zeros((self.num_docs, self.num_topics))\n",
    "        self.topic_totals = numpy.zeros(self.num_topics)\n",
    "        self.doc_totals = numpy.zeros(self.num_docs)\n",
    "        \n",
    "        ## Initialize topics randomly\n",
    "        for doc_id in range(self.num_docs):\n",
    "            doc = self.docs[doc_id]\n",
    "            ## Create an array of random topic assignments\n",
    "            doc['topics'] = list(map(lambda x: random.randrange(self.num_topics), doc['tokens']))\n",
    "            ## Construct the initial summary statistics\n",
    "            doc_length = len(doc['tokens'])\n",
    "            for i in range(doc_length):\n",
    "                token = doc['tokens'][i]\n",
    "                topic = doc['topics'][i]\n",
    "                self.term_topics[token][topic] += 1 # n_wk\n",
    "                self.doc_topics[doc_id][topic] += 1 # n_dk\n",
    "                self.topic_totals[topic] += 1       # n_k\n",
    "                self.doc_totals[doc_id] += 1\n",
    "        ## Printout to check that everything is coherent\n",
    "        #print(sum(sum(self.doc_topics)))\n",
    "        #print(sum(sum(self.term_topics)))\n",
    "        #print(sum(self.topic_totals))\n",
    "        #print(sum(self.doc_totals))\n",
    "    \n",
    "    def read_documents(self, filename):\n",
    "        \"\"\"Reads documents from a file, filters stop words and initializes\n",
    "        the vocabulary. Also converts tokens to integer term IDs.\"\"\"\n",
    "        self.vocab = []\n",
    "        self.vocab_ids = {}\n",
    "        with open(filename) as f:\n",
    "            for line in f:\n",
    "                line = line.replace(\".\", \" \").replace(\",\", \" \").lower()\n",
    "                self.num_docs += 1\n",
    "                tokens = []\n",
    "                for w in line.split():\n",
    "                    if not w in self.stoplist:\n",
    "                        if w in self.vocab_ids:\n",
    "                            tokens.append(self.vocab_ids[w])\n",
    "                        else:\n",
    "                            term_id = len(self.vocab)\n",
    "                            self.vocab.append(w)\n",
    "                            self.vocab_ids[w] = term_id\n",
    "                            tokens.append(term_id)\n",
    "                self.doc_snippets.append(line[:200])\n",
    "                self.docs.append({ 'tokens': tokens })\n",
    "        self.num_terms = len(self.vocab)\n",
    "        print(\"Read {} documents with a total of {} terms\".format(self.num_docs, self.num_terms))\n",
    "    \n",
    "    def __init__(self,\n",
    "                 num_topics,\n",
    "                 docs_file_name,\n",
    "                 stop_list_file_name = None):\n",
    "        self.num_topics = num_topics\n",
    "        self.num_docs = 0\n",
    "        self.doc_snippets = []\n",
    "        self.docs = []\n",
    "        ## Prepare list of stopwords\n",
    "        self.stoplist = dict()\n",
    "        if stop_list_file_name != None:\n",
    "            with open(stop_list_file_name) as f:\n",
    "                for line in f:\n",
    "                    word = line.rstrip()\n",
    "                    self.stoplist[word] = 1\n",
    "        self.read_documents(docs_file_name)\n",
    "        self.initialize_matrices()\n",
    "    \n",
    "    def print_topics(self, j):\n",
    "        for topic in  range(self.num_topics) :\n",
    "            print('Topic {}'.format(topic))\n",
    "            indices_sorted = numpy.argsort(self.term_topics[:,topic])\n",
    "            top_j = indices_sorted[-j:]\n",
    "            res = []\n",
    "            for ind in top_j :\n",
    "                res.append(self.vocab[ind])\n",
    "            print(res)\n",
    "    \n",
    "    def make_draw(self, alpha, beta):\n",
    "        \"\"\"Makes a single draw from the posterior distribution in an MCMC fashion.\"\"\"\n",
    "        for doc_id in range(self.num_docs) : # iterate through all the tokens\n",
    "            doc = self.docs[doc_id]\n",
    "            for n, word in enumerate(doc['tokens']) :\n",
    "                zi = doc['topics'][n]\n",
    "                \n",
    "                # remove current topic indicator from nw, nd and n\n",
    "                self.term_topics[word][zi] -= 1\n",
    "                self.doc_topics[doc_id][zi] -= 1\n",
    "                self.topic_totals[zi] -= 1\n",
    "\n",
    "                p = numpy.zeros(self.num_topics)\n",
    "                for k in range(self.num_topics) :\n",
    "                    # compute the unnormalized probability of each topic indicator\n",
    "                    p[k] = (alpha + self.doc_topics[doc_id][k])*(beta+self.term_topics[word][k])/(self.num_topics*beta+self.topic_totals[k])\n",
    "\n",
    "                # Sample the topic indicator\n",
    "                p = p/sum(p)\n",
    "                new_zi = numpy.argmax(numpy.random.multinomial(10, p))\n",
    "\n",
    "                # Add the new topic indicator zi\n",
    "                doc['topics'][n] = new_zi\n",
    "                self.term_topics[word][new_zi] += 1\n",
    "                self.doc_topics[doc_id][new_zi] += 1\n",
    "                self.topic_totals[new_zi] += 1\n",
    "                \n",
    "    def compute_logprob(self, alpha, beta):\n",
    "        \"\"\"Computes the log marginal posterior.\"\"\"\n",
    "        log = 0\n",
    "        log += self.num_topics*scipy.special.gammaln(self.num_terms*beta) # 1.\n",
    "        log -= self.num_topics*self.num_terms*scipy.special.gammaln(beta) # 2.\n",
    "        \n",
    "        # 3.\n",
    "        temp = 0\n",
    "        for i in range(self.num_topics) :\n",
    "            for j in range(self.num_terms) :\n",
    "                temp += scipy.special.gammaln(self.term_topics[j][i] + beta)\n",
    "        log += temp\n",
    "        \n",
    "        # 4.\n",
    "        temp = 0 \n",
    "        for i in range(self.num_topics) :\n",
    "            temp2 = 0\n",
    "            for j in range(self.num_terms) :\n",
    "                temp2 += self.term_topics[j][i]\n",
    "            temp += scipy.special.gammaln(temp2+beta)\n",
    "        log -= temp\n",
    "        \n",
    "        log += self.num_docs*scipy.special.gammaln(self.num_topics*alpha) # 5.\n",
    "        log -= self.num_docs*self.num_topics*scipy.special.gammaln(alpha) # 6.\n",
    "        \n",
    "        # 7.\n",
    "        temp = 0\n",
    "        for i in range(self.num_docs) :\n",
    "            for j in range(self.num_topics) :\n",
    "                temp += scipy.special.gammaln(self.doc_topics[i][j] + alpha)\n",
    "        log += temp\n",
    "        \n",
    "        # 8.\n",
    "        temp = 0 \n",
    "        for i in range(self.num_docs) :\n",
    "            temp2 = 0\n",
    "            for j in range(self.num_topics) :\n",
    "                temp2 += self.doc_topics[i][j]\n",
    "            temp += scipy.special.gammaln(temp2+alpha)\n",
    "        log -= temp\n",
    "        \n",
    "        return log\n",
    "    \n",
    "    def run(self, num_iterations = 50, alpha = 0.1, beta = 0.01):\n",
    "        self.logprobs = []\n",
    "        for iteration in range(num_iterations):\n",
    "            self.make_draw(alpha, beta)\n",
    "            logprob = self.compute_logprob(alpha, beta)\n",
    "            self.logprobs.append(logprob)\n",
    "            print(\"iteration {}, {}\".format(iteration, logprob))\n",
    "    \n",
    "    def run2(self, threshold = 100, alpha = 0.1, beta = 0.01):\n",
    "        self.logprobs = []\n",
    "        previous = 0\n",
    "        current = 2*threshold\n",
    "        iteration = 0\n",
    "        while math.fabs(previous-current) > threshold :\n",
    "            iteration += 1\n",
    "            self.make_draw(alpha, beta)\n",
    "            logprob = self.compute_logprob(alpha, beta)\n",
    "            previous = current\n",
    "            current = logprob\n",
    "            self.logprobs.append(logprob)\n",
    "            print(\"iteration {}, {}\".format(iteration, logprob))\n",
    "            \n",
    "    def plot(self):\n",
    "        plt.plot(range(len(self.logprobs)), self.logprobs)\n",
    "        \n",
    "    def new_speech(self, alpha = 0.5, N = 20) :\n",
    "        speech = []\n",
    "        theta = numpy.random.dirichlet(alpha = [0.5] * self.num_topics)\n",
    "        #print(theta)\n",
    "        for w in range(N) :\n",
    "            z = numpy.random.choice(10, 1, p = list(theta))[0]\n",
    "            #print(z)\n",
    "            prob_z = self.term_topics[:,z]/sum(self.term_topics[:,z])\n",
    "            word = numpy.random.choice(self.num_terms, 1, p = prob_z)\n",
    "            \n",
    "            for voc in self.vocab_ids.keys():\n",
    "                if self.vocab_ids[voc] == word :\n",
    "                    speech.append(voc)\n",
    "        return speech    "
   ]
  },
  {
   "cell_type": "markdown",
   "metadata": {},
   "source": [
    "Implement the make_draw function above. You should get behavior very similar to the results from calling the parent class."
   ]
  },
  {
   "cell_type": "code",
   "execution_count": 74,
   "metadata": {},
   "outputs": [
    {
     "name": "stdout",
     "output_type": "stream",
     "text": [
      "Read 2898 documents with a total of 8695 terms\n",
      "iteration 0, -675095.4192150987\n",
      "iteration 1, -631002.9023275846\n",
      "iteration 2, -617420.6811219492\n",
      "iteration 3, -611422.4813678896\n",
      "iteration 4, -607572.9724700216\n",
      "iteration 5, -605328.851956223\n",
      "iteration 6, -603461.5203424115\n",
      "iteration 7, -601997.9925551869\n",
      "iteration 8, -600732.4692501829\n",
      "iteration 9, -599452.5095325429\n"
     ]
    }
   ],
   "source": [
    "model = MyGibbs(10, 'sotu_1975_2000.txt', 'stoplist_en.txt')\n",
    "model.run(10)"
   ]
  },
  {
   "cell_type": "markdown",
   "metadata": {},
   "source": [
    "### 2. Top terms\n",
    "Implement the print_topics function to extract the top j largest counts in n (w) by row. This is the most probable word types in each topic."
   ]
  },
  {
   "cell_type": "code",
   "execution_count": 75,
   "metadata": {},
   "outputs": [
    {
     "name": "stdout",
     "output_type": "stream",
     "text": [
      "Topic 0\n",
      "['american', 'economic', 'work', 'people', 'congress', 'year', 'government', 'years', 'america', 'world']\n",
      "Topic 1\n",
      "['world', 'work', 'make', 'years', 'american', 'government', 'year', 'congress', 'america', 'people']\n",
      "Topic 2\n",
      "['americans', 'freedom', 'country', 'time', 'budget', 'american', 'world', 'year', 'america', 'people']\n",
      "Topic 3\n",
      "['income', 'insurance', 'school', 'federal', 'million', 'years', 'care', 'children', 'americans', 'health']\n",
      "Topic 4\n",
      "['increase', 'full', 'jobs', 'water', 'research', 'special', 'power', 'democratic', 'technology', 'tax']\n",
      "Topic 5\n",
      "['social', 'civil', 'days', 'reduce', 'back', 'space', 'good', 'god', 've', 'bill']\n",
      "Topic 6\n",
      "['science', 'give', 'll', 'nato', '2', 'housing', 'business', 'community', 'welfare', 'crime']\n",
      "Topic 7\n",
      "['promote', 'teachers', 'parents', 'bill', 'students', 'communities', 'century', 'schools', 'tonight', 'children']\n",
      "Topic 8\n",
      "['congress', 'speaker', 'members', 'fellow', 'americans', 'citizens', 'tonight', 'great', 'mr', 'president']\n",
      "Topic 9\n",
      "['requires', 'past', 'veto', 'interests', 'initiatives', 'community', 'simply', 'wrong', 'private', 'war']\n"
     ]
    }
   ],
   "source": [
    "model.print_topics(10)"
   ]
  },
  {
   "cell_type": "markdown",
   "metadata": {},
   "source": [
    "### 3. Explore the data\n",
    "\n",
    "Run your implemention on the State of the Union corpus until convergence with 10 topics, don't forget to remove stop words. Plot the log marginal posterior by the number of iterations. How many iterations do you need until convergence? How do you interpret the topics?\n",
    "\n",
    "[Hint: You can use the plot-function to print the marginal probability for each iteration. To get it working in Jupyter you need to run the command `%matplotlib inline` before plotting the first time.]"
   ]
  },
  {
   "cell_type": "code",
   "execution_count": 78,
   "metadata": {},
   "outputs": [
    {
     "name": "stdout",
     "output_type": "stream",
     "text": [
      "Read 2898 documents with a total of 8695 terms\n",
      "iteration 1, -675401.6484279687\n",
      "iteration 2, -631667.0932243718\n",
      "iteration 3, -618369.7846580343\n",
      "iteration 4, -612200.8435545528\n",
      "iteration 5, -608413.9158387794\n",
      "iteration 6, -605709.9808010226\n",
      "iteration 7, -603734.4216968124\n",
      "iteration 8, -602240.9068262413\n",
      "iteration 9, -600973.2918109142\n",
      "iteration 10, -599947.8100634448\n",
      "iteration 11, -599280.2653108793\n",
      "iteration 12, -598662.5038769245\n",
      "iteration 13, -598040.4752698966\n",
      "iteration 14, -597482.8447051614\n",
      "iteration 15, -596902.0787045833\n",
      "iteration 16, -596336.8920007158\n",
      "iteration 17, -595865.5999878069\n",
      "iteration 18, -595339.5099656924\n",
      "iteration 19, -594963.2399665709\n",
      "iteration 20, -594571.163290842\n",
      "iteration 21, -594045.3150933238\n",
      "iteration 22, -593771.0621449888\n",
      "iteration 23, -593450.787003555\n",
      "iteration 24, -593187.2221117987\n",
      "iteration 25, -592999.3315206352\n",
      "iteration 26, -592759.1831121934\n",
      "iteration 27, -592610.3719513294\n",
      "iteration 28, -592471.1779901799\n",
      "iteration 29, -592326.3740276417\n",
      "iteration 30, -592187.8563308836\n",
      "iteration 31, -592117.8022834719\n"
     ]
    },
    {
     "data": {
      "image/png": "[encoded data removed]",
      "text/plain": [
       "<matplotlib.figure.Figure at 0x1508f690828>"
      ]
     },
     "metadata": {},
     "output_type": "display_data"
    }
   ],
   "source": [
    "%matplotlib inline\n",
    "model = MyGibbs(10, 'sotu_1975_2000.txt', 'stoplist_en.txt')\n",
    "model.run2()\n",
    "model.plot()"
   ]
  },
  {
   "cell_type": "markdown",
   "metadata": {},
   "source": [
    "#### Answer here:"
   ]
  },
  {
   "cell_type": "markdown",
   "metadata": {},
   "source": [
    "### 4. Simulate a new State of the Union speech\n",
    "\n",
    "Write a function new_speech in the MyGibbs class to use the estimated values for $\\Phi$ from your model (with stopwords removed) to simulate a new State of the Union speech. Start out by simulating $\\theta d \\sim Dir(\\alpha = 0.5)$ and then simulate your document. Does it make sense? Why, why not?"
   ]
  },
  {
   "cell_type": "code",
   "execution_count": 79,
   "metadata": {},
   "outputs": [
    {
     "name": "stdout",
     "output_type": "stream",
     "text": [
      "['5', 'waiting', 'social', 'finally', 'clogged', 'verifiable', 'lot', 'crises', 'results', 'convicted', 'presence', 'make', 'justifiably', 'marshaled', 'serves', 'movement', 'turning', 'established', 'procedures', '1980']\n",
      "['worldwide', 'emerging', 'human', 'concern', 'zone', 'begin', 'deficit', 'venture', 'dealing', 'opened', 'countries', 'prove', 'welfare', 'digit', 'buying', 'sound', 'schools', 'passage', 'hattiesburg', 'regional']\n"
     ]
    }
   ],
   "source": [
    "new_speech = model.new_speech()\n",
    "print(new_speech)\n",
    "\n",
    "new_speech2 = model.new_speech(alpha = 0.1)\n",
    "print(new_speech2)"
   ]
  },
  {
   "cell_type": "markdown",
   "metadata": {},
   "source": [
    "#### Answer here:"
   ]
  },
  {
   "cell_type": "markdown",
   "metadata": {},
   "source": [
    "### Bonus assignment:\n",
    "\n",
    "To get better understanding of the underlying model, you might want to implement your own function to compute the log marginal posterior. If so, implement the compute_logprob function.\n",
    "\n",
    "$$\\begin{align}\n",
    "\\log p(\\mathbf{z}|\\mathbf{w}) =& \\log\\prod^{K}p(\\mathbf{w}|\\mathbf{z},\\beta)\\prod^{D}p(\\mathbf{z}|\\alpha) \\\\\n",
    "=& \\sum^{K}\\log\\left[\\frac{\\Gamma\\left(\\sum^{V}\\beta\\right)}{\\prod^{V}\\Gamma\\left(\\beta\\right)}\\frac{\\prod^{V}\\Gamma\\left(n_{kv}^{(w)}+\\beta\\right)}{\\Gamma(\\sum^{V}n_{kv}^{(w)}+\\beta)}\\right]+\\sum^{D}\\log\\left[\\frac{\\Gamma\\left(\\sum^{K}\\alpha\\right)}{\\prod^{K}\\Gamma\\left(\\alpha\\right)}\\frac{\\prod^{K}\\Gamma\\left(n_{dk}^{(d)}+\\alpha\\right)}{\\Gamma(\\sum^{K}n_{dk}^{(d)}+\\alpha)}\\right] \\\\\n",
    "=& K\\log\\Gamma\\left(V\\beta\\right)-KV\\log\\Gamma\\left(\\beta\\right)+\\sum^{K}\\sum^{V}\\log\\Gamma\\left(n_{kv}^{(w)}+\\beta\\right)-\\sum^{K}\\log\\Gamma(\\sum^{V}n_{kv}^{(w)}+\\beta)\\\\\n",
    "&+ D\\log\\Gamma\\left(K\\alpha\\right)-DK\\log\\Gamma\\left(\\alpha\\right)+\\sum^{D}\\sum^{K}\\log\\Gamma\\left(n_{dk}^{(d)}+\\alpha\\right)-\\sum^{D}\\log\\Gamma(\\sum^{K}n_{dk}^{(d)}+\\alpha)\n",
    "\\end{align}$$\n",
    "\n",
    "In Python, use `scipy.special.gammaln` for $\\log\\Gamma(x)$ (if you run into problems, you might try `math.lgamma` instead)."
   ]
  }
 ],
 "metadata": {
  "kernelspec": {
   "display_name": "Python 3",
   "language": "python",
   "name": "python3"
  },
  "language_info": {
   "codemirror_mode": {
    "name": "ipython",
    "version": 3
   },
   "file_extension": ".py",
   "mimetype": "text/x-python",
   "name": "python",
   "nbconvert_exporter": "python",
   "pygments_lexer": "ipython3",
   "version": "3.6.2"
  }
 },
 "nbformat": 4,
 "nbformat_minor": 2
}

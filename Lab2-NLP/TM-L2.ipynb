{
 "cells": [
  {
   "cell_type": "markdown",
   "metadata": {},
   "source": [
    "# L2: Information Extraction"
   ]
  },
  {
   "cell_type": "markdown",
   "metadata": {},
   "source": [
    "In this lab you will implement and evaluate a simple system for information extraction. The task of the system is to read sentences and extract entity pairs of the form *x*&ndash;*y* where *x*&nbsp;is a person, *y*&nbsp;is an organisation, and *x* is the &lsquo;leader&rsquo; of&nbsp;*y*. Consider the following example sentence:\n",
    "\n",
    "<blockquote>\n",
    "Mr. Obama also selected Lisa Jackson to head the Environmental Protection Agency.\n",
    "</blockquote>\n",
    "\n",
    "From this sentence the system should extract the pair\n",
    "```\n",
    "(\"Lisa Jackson\", \"Environmental Protection Agency\")\n",
    "```\n",
    "\n",
    "The system will have to solve the following sub-tasks:\n",
    "* entity extraction &ndash; identifying mentions of person entities in text\n",
    "* relation extraction &ndash; identifying instances of the &lsquo;is-leader-of&rsquo; relation\n",
    "\n",
    "The data set for the lab consists of 62,010&nbsp;sentences from the [Groningen Meaning Bank](http://gmb.let.rug.nl) (release 2.2.0), an open corpus of English. To analyse the sentences you will use [spaCy](https://spacy.io/)."
   ]
  },
  {
   "cell_type": "markdown",
   "metadata": {},
   "source": [
    "## Getting started"
   ]
  },
  {
   "cell_type": "markdown",
   "metadata": {},
   "source": [
    "The first cell imports the Python module required for this lab."
   ]
  },
  {
   "cell_type": "code",
   "execution_count": 110,
   "metadata": {
    "collapsed": true
   },
   "outputs": [],
   "source": [
    "import spacy\n",
    "\n",
    "# Definition of the functions \n",
    "\n",
    "def read_data(file, n = None) :\n",
    "    with open(file, encoding=\"utf8\") as file:\n",
    "        return [next(file) for x in range(n)]"
   ]
  },
  {
   "cell_type": "markdown",
   "metadata": {},
   "source": [
    "The data is contained in the following file:"
   ]
  },
  {
   "cell_type": "code",
   "execution_count": 85,
   "metadata": {
    "collapsed": true
   },
   "outputs": [],
   "source": [
    "data_file = \"gmb.txt\""
   ]
  },
  {
   "cell_type": "markdown",
   "metadata": {},
   "source": [
    "The `tm2` module defines a function `read_data` that returns an iterator over the lines in a file. You should use this function to read the data for this lab. Use the optional argument `n` to restrict the iteration to the first few lines of the file. Here is an example:"
   ]
  },
  {
   "cell_type": "code",
   "execution_count": 86,
   "metadata": {},
   "outputs": [
    {
     "name": "stdout",
     "output_type": "stream",
     "text": [
      "Masked assailants with grenades and automatic weapons attacked a wedding party in southeastern Turkey, killing 45 people and wounding at least six others.\n",
      "\n",
      "Turkish officials said the attack occurred Monday in the village of Bilge about 600 kilometers from Ankara.\n",
      "\n",
      "The wounded were taken to the hospital in the nearby city of Mardin.\n",
      "\n"
     ]
    }
   ],
   "source": [
    "for sentence in read_data(data_file, n=3):\n",
    "    print(sentence)"
   ]
  },
  {
   "cell_type": "markdown",
   "metadata": {},
   "source": [
    "The next cell imports spaCy and loads its English language model."
   ]
  },
  {
   "cell_type": "code",
   "execution_count": 5,
   "metadata": {},
   "outputs": [
    {
     "data": {
      "text/plain": [
       "<generator object Language.pipe at 0x000001D107EA1EB8>"
      ]
     },
     "execution_count": 5,
     "metadata": {},
     "output_type": "execute_result"
    }
   ],
   "source": [
    "nlp = spacy.load('en_core_web_sm', disable=['textcat'])\n",
    "nlp.pipe(read_data(data_file, n=3))"
   ]
  },
  {
   "cell_type": "markdown",
   "metadata": {},
   "source": [
    "## Entity extraction"
   ]
  },
  {
   "cell_type": "markdown",
   "metadata": {},
   "source": [
    "To implement the entity extraction part of your system, you do not need to do much, as you can use the full natural language processing power built into spaCy. The following code extracts the entities from the first 5&nbsp;sentences of the data:"
   ]
  },
  {
   "cell_type": "code",
   "execution_count": null,
   "metadata": {},
   "outputs": [],
   "source": [
    "for i, doc in enumerate(nlp.pipe(read_data(data_file, n=20))):\n",
    "    for ent in doc.ents:\n",
    "        print(\"{}\\t{}\\t{}\\t{}\".format(ent.text, ent.start, ent.end, ent.label_))"
   ]
  },
  {
   "cell_type": "markdown",
   "metadata": {},
   "source": [
    "Read the [section about named entities](https://spacy.io/usage/linguistic-features#section-named-entities) from spaCy&rsquo;s documentation to get some background on this. (Please note that we are using version&nbsp;1 of the spaCy library, which means that there may be slight differences in the usage. At the time of writing, the current version&nbsp;2 is not yet stable and fast enough for this lab.)"
   ]
  },
  {
   "cell_type": "markdown",
   "metadata": {},
   "source": [
    "## Problem 1: Extract relevant pairs"
   ]
  },
  {
   "cell_type": "markdown",
   "metadata": {},
   "source": [
    "The first problem that you will have to solve is to identify pairs of entities that are in the &lsquo;is-leader-of&rsquo; relation, as in the example above. There are many ways to do this, but for this lab it suffices to implement the strategy outlined in the section on [Relation Extraction](http://www.nltk.org/book/ch07.html#relation-extraction) in the book by Bird, Klein, and Loper (2009):\n",
    "\n",
    "* look for all triples of the form $(X, \\alpha, Y)$ where $X$ and $Y$ are named entities of type *person* and $\\alpha$ is the intervening text\n",
    "* write a regular expression to match just those instances of $\\alpha$ that express the &lsquo;is-leader-of&rsquo; relation\n",
    "\n",
    "You can restrict your attention to adjacent pairs of entities &ndash; that is, cases where $X$ precedes $Y$ and $\\alpha$ does not contain other named entities.\n",
    "\n",
    "Write a function `extract` that takes an analysed sentence (represented as a spaCy [`Doc`](https://spacy.io/api/doc) object) and yields pairs $(X, Y)$ of strings representing entity mentions predicted to be in the &lsquo;is-leader-of&rsquo; relation."
   ]
  },
  {
   "cell_type": "code",
   "execution_count": 87,
   "metadata": {},
   "outputs": [],
   "source": [
    "import re\n",
    "def extract(doc):\n",
    "    \"\"\"Extract relevant relation instances from the specified document.\n",
    "    \n",
    "    Args:\n",
    "        doc: The sentence as analysed by spaCy.\n",
    "    Yields:\n",
    "        Pairs of strings representing the extracted relation instances.\n",
    "    \"\"\"\n",
    "    relation = []\n",
    "    \n",
    "    # Entities to look at : \"PERSON\" + relation + \"ORG\"\n",
    "    \n",
    "    # identifying instances of the ‘is-leader-of’ relation\n",
    "    # regular expression\n",
    "    leader = re.compile(r'.*(lead|command|direct|govern|head|manage|preside|supervis|chief|patron).*')\n",
    "    \n",
    "    person =  None\n",
    "    org = None\n",
    "    \n",
    "    for ent in doc.ents:\n",
    "        if ent.label_ == \"PERSON\":\n",
    "            person = ent\n",
    "        else :\n",
    "            if ent.label_ == \"ORG\" and person != None : # we find an ORG and they was a PERSON before\n",
    "                org = ent\n",
    "                intervening_words = doc.text.split(\" \")[person.end:org.start]\n",
    "                intervening_sentence = \" \".join(intervening_words)\n",
    "                if re.search(leader,intervening_sentence) :\n",
    "                    relation.append((person,org))\n",
    "                    org = None\n",
    "                    person = None\n",
    "                    \n",
    "    return relation # array of tuples (X,Y)"
   ]
  },
  {
   "cell_type": "markdown",
   "metadata": {},
   "source": [
    "The following cell shows how your function is supposed to be used. The code prints out the extracted pairs for the first 1,000&nbsp;sentences in the data. It additionally numbers each pair with the identifier of the sentence (line number in the data file) which it was extracted from. Note that the sentence (line) numbering starts at index&nbsp;0."
   ]
  },
  {
   "cell_type": "code",
   "execution_count": 82,
   "metadata": {},
   "outputs": [
    {
     "name": "stdout",
     "output_type": "stream",
     "text": [
      "144\tJohn Mayer\tSave The Music\n",
      "207\tRugova\tEuropean Union\n",
      "283\tMichael Green\tthe U.S. National Security Council\n",
      "351\tJendayi Frazer\tSudan Liberation Army\n",
      "391\tMahmoud Abbas\tFatah\n",
      "512\tAung San Suu Kyi\tthe National League for Democracy\n",
      "638\tHassan\tCARE\n",
      "802\tAsif Ali Zardari\tthe Pakistan People's Party\n"
     ]
    }
   ],
   "source": [
    "for i, doc in enumerate(nlp.pipe(read_data(data_file, n=1007))):\n",
    "    for person, org in extract(doc):\n",
    "        print(\"{}\\t{}\\t{}\".format(i, person, org))"
   ]
  },
  {
   "cell_type": "markdown",
   "metadata": {},
   "source": [
    "Once you feel confident that your `extract` function does what it is supposed to do, execute the following cell to extract the entities from the full data set. Note that this will probably take a few minutes."
   ]
  },
  {
   "cell_type": "code",
   "execution_count": 111,
   "metadata": {},
   "outputs": [],
   "source": [
    "extracted = set()\n",
    "for i, doc in enumerate(nlp.pipe(read_data(data_file, n=62010))):\n",
    "    for person, org in extract(doc):\n",
    "        extracted.add((i, person, org))"
   ]
  },
  {
   "cell_type": "markdown",
   "metadata": {},
   "source": [
    "After executing the above cell, all extracted id-string-string triples are in the set `extracted`. The code in the next cell will print the first 10&nbsp;triples in this set."
   ]
  },
  {
   "cell_type": "code",
   "execution_count": 119,
   "metadata": {},
   "outputs": [
    {
     "name": "stdout",
     "output_type": "stream",
     "text": [
      "144\tJohn Mayer\tSave The Music\n",
      "207\tRugova\tEuropean Union\n",
      "283\tMichael Green\tthe U.S. National Security Council\n",
      "351\tJendayi Frazer\tSudan Liberation Army\n",
      "391\tMahmoud Abbas\tFatah\n",
      "512\tAung San Suu Kyi\tthe National League for Democracy\n",
      "638\tHassan\tCARE\n",
      "802\tAsif Ali Zardari\tthe Pakistan People's Party\n",
      "1262\tAlasay Valley\tTaliban\n",
      "1349\tKaren Hughes\tState Department\n",
      "1591\tFidel Castro\tthe Communist Party\n",
      "1790\tKoizumi\tthe United Nations\n",
      "1966\tLech Walesa\tSolidarity\n",
      "2350\tBasayev\tNalchik\n",
      "2477\tIsmail Haniyeh\tFatah\n",
      "3053\tLecturer John Gai Yoh\tthe Sudanese Liberation Movement\n",
      "3160\tJack Straw\tStraw\n",
      "3291\tKrasniqi\tthe Kosovo Protection Corps\n",
      "3399\tMPRP\tthe Democratic Party\n",
      "3520\tPeres\tAmir Peretz\n",
      "3543\tHassan\tCare International\n",
      "4324\tMa Zhenchuan\tthe Beijing Municipal Public Security Bureau\n",
      "4567\tBush\tthe U.S. Justice Department\n",
      "4692\tHeliodoro Diaz\tHouse of Representatives\n",
      "4699\tAgim Ceku\tthe Kosovo Protection Corps\n",
      "4753\tJunichiro Koizumi\tAPEC\n",
      "5046\tDaniel Pearl\tAl-Qaida\n",
      "5082\tGul\tthe AK Party\n",
      "5450\tNicolas Sarkozy\tGroup\n",
      "5507\tLi Jianzhong\tthe Chinese Academy of Carrier Rocket Technology\n",
      "5522\tKofi Annan\tthe Security Council\n",
      "5557\tMoqtada al-Sadr\tAmarah\n",
      "5762\tYuan Baojing\tJianhao Group\n",
      "5796\tTracy McGrady\tthe Houston Rockets\n",
      "6276\tBush\tAl-Jazeera\n",
      "6297\tPutin\tthe NATO-Russia Council\n",
      "6517\tTony Snow\tUnited Nations Security Council\n",
      "6526\tLuiz Inacio Lula da Silva\tCongress\n",
      "7579\tAlexander Lukashenko\tNATO\n",
      "7697\tSayed Agha Saqib\tTaliban\n",
      "7755\tMikhail Khodorkovsky\tYukos\n",
      "7788\tAlpha Oumar Konare\tU.N.\n",
      "7902\tHakim\tSupreme Council for the Revolution in Iraq\n",
      "7917\tVladimir Putin\tGroup\n",
      "7932\tWales\tScimitar\n",
      "8086\tPorter Goss\tCIA\n",
      "8182\tHamid Karzai\tTaleban\n",
      "8633\tAli Rodriguez\tPetroleos de Venezuela\n",
      "9004\tJoschka Fischer\tthe Green Party\n",
      "9021\tHassan Halemi\tKabul University\n",
      "9046\tHamid Karzai's\tTaleban\n",
      "9047\tKarzai\tTaleban\n",
      "9063\tKhin Nyunt\tNIB\n",
      "9103\tMohammad Saeedi\tAtomic Energy Organization\n",
      "9364\tKony\tResistance Army\n",
      "9448\tSevan\tU.N.\n",
      "9495\tTom DeLay\tthe House of Representatives\n",
      "9731\tPedro Esquisabel Urtuzaga\tETA\n",
      "9999\tFrank Sainworla\tVOA\n",
      "10002\tMushir al-Masri\tHamas\n",
      "10021\tMuseveni\tHigh Command\n",
      "10057\tProphet Muhammad\tIslam\n",
      "10231\tPervez Musharraf\tthe Non- Aligned Movement\n",
      "10294\tHarry Thomas\tthe U.S. Foreign Service\n",
      "10441\tMohamed ElBaradei\tthe International Atomic Energy Agency\n",
      "10490\tStronach\tMagna\n",
      "10496\tStronach\tParliament\n",
      "10563\tKhaled Meshaal\tHamas\n",
      "11006\tBush\tthe Group of Eight summit\n",
      "11062\tAlexi Barinov\tNenets\n",
      "11259\tJoseph Domenech\tU.N.\n",
      "11487\tAtta Mohammed\tthe Northern Alliance\n",
      "11562\tNouri al-Maliki\tUnited Iraqi Alliance\n",
      "12048\tAsghari\tRevolutionary Guards\n",
      "12080\tHaim Ramon\tKadima Party\n",
      "12320\tHamid Karzai\tSupreme Court\n",
      "12369\tGuillaume Soro\tNew Forces\n",
      "12618\tMerkel\tthe African Union\n",
      "12700\tHamid Karzai\tTaleban\n",
      "12721\tKouchner\tEU\n",
      "12760\tStan O'Neal\tMerrill Lynch\n",
      "12973\tKaradzic\tGeneral Ratko Mladic\n",
      "12997\tPaul Wolfowitz\tthe World Bank\n",
      "12999\tWolfowitz\tBank\n",
      "13042\tBarack Obama\tNATO\n",
      "13043\tDavid Petraeus\tU.S. Central Command\n",
      "13044\tObama\tRolling Stone magazine\n",
      "13286\tAnn Dunwoody\tPentagon\n",
      "13563\tHamid Karzai\tthe CARE International\n",
      "13571\tStruck\tthe European Union\n",
      "13637\tZardari\tPakistan People's Party\n",
      "13850\tAl-Zawahiri\tal-Qaida\n",
      "13863\tAlvaro Uribe\tFARC\n",
      "13932\tRoh Moo-Hyun\tAPEC\n",
      "14130\tDeLay\tHouse\n",
      "14155\tMehmet Ali Talat\tthe National Unity Party\n",
      "14440\tJohn Lipsky\tIMF\n",
      "14784\tLevin\tCongress\n",
      "14855\tGerry Adams\tIRA\n",
      "15203\tJoseph Kony\tResistance Army\n",
      "15906\tChen Shui-bian\tDemocratic Progressive Party\n",
      "16083\tAngela Merkel\tthe Christian Social Union\n",
      "16235\tBush\tAPEC\n",
      "16350\tJalal Talabani\tal-Qaida\n",
      "16362\tMohammad Ali Jalali\tGhazni\n",
      "16397\tAriel Sharon\tHamas\n",
      "16454\tAlito\tState of the Union\n",
      "16602\tWolfgang Schuessel\tEU\n",
      "16603\tTony Blair\tEU\n",
      "16772\tSanader\tJournalists Association\n",
      "17178\tShamil Basayev\tkavkazcenter.com\n",
      "17200\tDon McKinnon\tWTO\n",
      "17555\tJose Miguel Insulza\tRadio Caracas Television\n",
      "17848\tBrad Adams\tHRW\n",
      "17867\tAli Saeedlou\tOil Ministry\n",
      "17981\tOmar Hamra\tTawhid Wal Jihad\n",
      "18039\tYushchenko\tthe European Union\n",
      "18520\tGoss\tCIA\n",
      "18859\tHamid Karzai\tIndependent Election Commission\n",
      "19057\tBenedict XVI\tIslam\n",
      "19133\tMarco Materazzi\tFIFA\n",
      "19155\tKaren Hughes\tPepsiCo\n",
      "19386\tJavad Vaeedi\tNational Security Council\n",
      "19678\tIan Paisley\tthe Catholic IRA\n",
      "19681\tJerry Adams\tIRA\n",
      "19774\tWeah\tUnited Nations\n",
      "19834\tHamid KARZAI\tthe National Assembly\n",
      "19865\tbin-Laden's\tIslam\n",
      "20270\tTony Blair\tthe Irish Republican Army\n",
      "20273\tGerry Adams\tIRA\n",
      "20496\tAvigdor Lieberman\tthe Yisrael Beitenu party\n",
      "20557\tYushchenko\tSupreme Court\n",
      "20667\tFini\tthe National Alliance\n",
      "20815\tMohammed\tWall Street Journal\n",
      "21153\tFred Eckhard\tUN\n",
      "21338\tRice\tHamas\n",
      "21828\tNicolas Sarkozy\tUnion for a Popular Movement\n",
      "21856\tKrishna Prasad Sitaula\tMaoist\n",
      "21914\tMwanawasa\tthe Southern African Development Community\n",
      "22019\tMenem\tThales Spectrum\n",
      "22022\tMenem\tThales Spectrum\n",
      "22136\tClinton\tthe Central Intelligence Agency\n",
      "22137\tLeon Panetta\tCIA\n",
      "22192\tFranz Klammer\tNike Bent\n",
      "22755\tArafat\tPalestine Liberation Organization\n",
      "22844\tJacob ZUMA\tANC\n",
      "22849\tPaulson\tGoldman Sachs\n",
      "22861\tMichel Barnier\tEuropean Union\n",
      "22917\tNasser al-Mutairi\tKuwaiti\n",
      "22981\tMahmoud Abbas\tHamas\n",
      "23016\tOsama bin Laden\tal-Qaida\n",
      "23040\tBush\tPEPFAR\n",
      "23332\tBush\tal-Qaida\n",
      "23386\tAref Energy\tHalliburton\n",
      "23542\tRumsfeld\tSecond Artillery Corps\n",
      "23687\tClinton\tal-Qaida\n",
      "23724\tTheoneste Bagosora\tDefense Ministry\n",
      "24167\tBarack Obama\tthe U.N. General Assembly\n",
      "24833\tOlusegan Obasanjo\tAU\n",
      "24890\tBaki\tGhazni\n",
      "25050\tBaitullah Mehsud\tal-Qaida\n",
      "25228\tMichael Hayden\tthe Central Intelligence Agency\n",
      "25292\tChilumpha\tthe United Democratic Party\n",
      "25567\tZheng Xinmiao\tNational Palace Museum\n",
      "25814\tMusa Mohammed\tSegun Odegbami's\n",
      "25815\tSalihu Abubakar\tthe Nigerian Premier League\n",
      "26170\tBush\tArmy\n",
      "26323\tMehdi Karroubi\tthe Revolutionary Guards Mohsen Rezai\n",
      "26443\tTom Delay\tCongress\n",
      "26651\tBush\tCongress\n",
      "26692\tOsama bin Laden\tal-Qaida\n",
      "26812\tMullah Omar\tTaleban\n",
      "26906\tHakimi\tTaleban\n",
      "27097\tMahmoud Zahar\tthe Palestinian Authority\n",
      "27142\tRene Preval\tJean-Bertrand Aristide\n",
      "27555\tAbbas\tthe Palestinian Authority\n",
      "28029\tPBSNewshour\tCongress\n",
      "28047\tJoseph Terrence Thomas\tal-Qaida\n",
      "28625\tKarzai\tal-Qaida\n",
      "28759\tNord Eclair\tRally for Republicans\"\n",
      "28833\tHamid Karzai\tNATO\n",
      "29069\tRangoon\tASEAN\n",
      "29139\tMullah Brader\tTaleban\n",
      "29795\tRadovan Karadzic\tGeneral Ratko Mladic\n",
      "29849\tHussein al-Shahristani\tHunt Oil\n",
      "30026\tCharles Duelfer\tthe Iraq Survey Group\n",
      "30032\tSassou-Nguesso\tAU\n",
      "30115\tAnup Raj Sharma\tNepal FM\n",
      "30176\tZarqawi\tal-Qaida\n",
      "30318\tAnnan\tU.N\n",
      "30417\tJack Hooper\tthe Canadian Security Intelligence Service\n",
      "30511\tBill Clinton\tH.I.V.\n",
      "30514\tClinton\tH.I.V.\n",
      "30713\tThomas Fargo\tthe U.S. Pacific Command\n",
      "30777\tGerhard Schroeder\tChristian Democratic Union\n",
      "30801\tBush\tHezbollah\n",
      "31125\tKofi Annan\tGroup\n",
      "31354\tBush\tthe State Department\n",
      "31546\tAbbas\tFatah\n",
      "32183\tAyatollah Ali Khamenei\tHamas\n",
      "32184\tAyatollah Khamenei\tHamas\n",
      "32389\tPaul Volcker\tU.N.\n",
      "32406\tHamid Karzai\tNATO\n",
      "32535\tBush\tU.N.\n",
      "32616\tIbrahim Ferrer\tthe Buena Vista Social Club\n",
      "32733\tAndrei Illarionov\tYukos\n",
      "32825\tBharat Patel\tthe Supreme Court\n",
      "32856\tLeith Mishaan\tal-Qaida\n",
      "33440\tHu\tSaudi Basic Industries Corporation\n",
      "33608\tSlobodan Milosevic\tU.N.\n",
      "33646\tColeman\tthe Senate Government Affairs\n",
      "33817\tBarack Obama\tGeneral Stanley McChrystal\n",
      "34084\tJohn Ging\tthe U.N. Relief and Works Agency\n",
      "34230\tBenedict\tIslam\n",
      "34251\tWolfowitz\tWorld Bank\n",
      "34286\tSonntag\tEU\n",
      "34365\tBush\tal-Qaida\n",
      "34586\tCristina Comencini\tLa Bestia Nel Cuore\n",
      "34694\tJavier Usabiaga\tGuanajuato\n",
      "34883\tJonathan Evans\tthe Muslim Council of Britain\n",
      "34885\tChung Mong-joon\tAsian Football Confederation\n",
      "34889\tPrince Ali\tthe West Asian Football Federation\n",
      "35067\tIsmail Haniyeh\tthe Palestinian Authority\n",
      "35288\tSharon\tKnesset\n",
      "35362\tKim\tState Hill\n",
      "35769\tArnold Schwarzenegger\tConservative Party\n",
      "36053\tOsama bin Laden\tTaleban\n",
      "36057\tMullah Omar's\tTaleban\n",
      "36114\tPhilippe Douste-Blazy\tIngrid Betancourt\n",
      "36309\tTom Lantos - a\tthe Presidium of the Supreme People's Assembly\n",
      "36362\tDeby\tthe Rally for Democracy and Liberty\n",
      "36418\tChilumpha\tthe United Political Party\n",
      "36919\tTutsi RPF\tRPF\n",
      "37037\tAli Akbar Salehi\tthe Atomic Energy Organization\n",
      "37076\tBill Clinton\tU.N.\n",
      "37349\tAbdullah II\tal-Qaida\n",
      "37409\tOlusegun Obasanjo\tGroup\n",
      "37521\tRomano Prodi\tthe U.N. Security Council\n",
      "37865\tRaul Gibb Guerrero\tthe La Opinion\n",
      "38208\tMiller\tthe Azeri State Oil Company\n",
      "38415\tYushchenko\tthe European Union\n",
      "38609\tHamid Karzai\tTaleban\n",
      "38769\tMahmoud Abbas\tHamas\n",
      "38773\tAbbas\tthe Palestinian Authority\n",
      "38968\tKaradzic\tRatko Mladic\n"
     ]
    },
    {
     "name": "stdout",
     "output_type": "stream",
     "text": [
      "39051\tTom Ridge\tHomeland Security\n",
      "39355\tAugusto Pinochet\tPinochet\n",
      "39722\tFrancisco Galan\tUribe\n",
      "39888\tSu Hon\tU.N.\n",
      "40015\tShieh Jhy-wey\tCabinet\n",
      "40315\tJohn Solecki\tU.N.\n",
      "40372\tMahmoud Ahmadinejad\tSupreme National Security Council\n",
      "40460\tMohamed GHANNOUCHI\tthe Chamber of Deputies\n",
      "40538\tKevin Rudd\tthe HMAS Stuart\n",
      "40611\tAli Larijani\tIAEA\n",
      "40736\tLal Krishna Advani\tthe Bharatiya Janata Party\n",
      "41032\tViktor Yanukovych\tthe Supreme Court\n",
      "41054\tGoss\tCIA\n",
      "41056\tGoss\tal-Qaida\n",
      "41375\tBush\tSocial Security\n",
      "41379\tScott McClellan\tSocial Security\n",
      "41702\tal-Aqsa\tthe Palestinian Authority\n",
      "41907\tPakistani Taliban\tMansoor\n",
      "42098\tAbbas\tFatah\n",
      "42115\tJohn Holmes\tU.N.\n",
      "42277\tBush\tthe United Nations General Assembly\n",
      "42281\tJacques Chirac\tthe U.N. Security Council's\n",
      "42349\tVicente FOX\tthe Institutional Revolutionary Party\n",
      "42405\tAbdul Haq\tTaleban\n",
      "42563\tSharon\tLikud\n",
      "43322\tDaschle\tal Qaida\n",
      "43348\tBush\tthe International Atomic Energy Agency\n",
      "43375\tRamush Haradinaj\tUnited Nations\n",
      "43377\tHaradinaj\tAlbanian Kosovo Liberation Army\n",
      "43491\tHumberto Valbuena\tthe Revolutionary Armed Forces of Colombia\n",
      "43516\tBill\tThe Global Alliance for Vaccines and Immunization\n",
      "43740\tFrancois Grignon\tICG\n",
      "43850\tYoweri Museveni\tResistance Army\n",
      "43940\tBush\tU.S.-\n",
      "44036\tAlexander Downer\tthe al-Qaida\n",
      "44280\tGandhi\tNational Advisory Council\n",
      "44305\tRoger Noriega\tWorld Bank\n",
      "44637\tSaad al-Fagih\tthe Movement of Islamic Reform in Arabia\n",
      "44685\tWilliam C. Walbrecher Jr.\tCitadel Holding Corp.\n",
      "44797\tManmohan Singh\tTamil Tiger\n",
      "44894\tAbdel Rahim Hussein\tthe United Nations\n",
      "44908\tKevin Costner\tthe Kevin Costner Band.\n",
      "\n",
      "44952\tDominique de Villepin\tInterior\n",
      "44970\tAref\tBaathist Party\n",
      "44990\tManmohan Singh\tHurriyat\n",
      "45727\tAbbas\tthe Palestinian Authority\n",
      "45788\tAndres Valencia\tELN\n",
      "45808\tClinton\tSenate\n",
      "45959\tJames Gilchrist\tWashington Times\n",
      "46620\tVladimir Popovkin\tSpace Forces\n",
      "46736\tShimon Peres\tLabor\n",
      "46977\tRowhani\tthe European Union\n",
      "47049\tGeorge Bush\tMuzaffarabad\n",
      "47786\tAbbas\tthe Palestinian Authority\n",
      "47798\tLi Rui\tthe Communist Party's\n",
      "47909\tVazquez\tBroad Front\n",
      "47912\tVazquez\tBroad Front\n",
      "48091\tAftab Khan Sherpao\tTaleban's Culture and Information Council\n",
      "48166\tMoreno\tHumanitarian Affairs\n",
      "48193\tMohamed ElBaradei\tthe International Atomic Energy Agency\n",
      "48229\tHamid Karzai\tEU\n",
      "48373\tAriel Sharon\tLabor Party\n",
      "48824\tAriel Sharon\tLikud\n",
      "48937\tMarwan Barghouti\tthe Palestinian Authority\n",
      "49094\tNick Marinellis\tMondayinthe New South Wales District Court\n",
      "49219\tMichael Hayden\tNSA\n",
      "49242\tAhmad Jannati\tGuardian Council\n",
      "49871\tDesmond de Silva\tthe United Nations\n",
      "49940\tLuis Carlos Restrepo\tFARC\n",
      "50005\tAbbas\tthe Palestinian Authority\n",
      "50150\tJacques Chirac\tUnited Nations\n",
      "50364\tPronk\tthe International Criminal Court\n",
      "50444\tEhud Olmert\tLikud\n",
      "50561\tYusuf Raza Gilani\tMQM\n",
      "50790\tBruno Gollnisch\tNational Front Party\n",
      "51157\tIsmail Shalabi\tal-Qaida\n",
      "51507\tAbdullah Ocalan\tKurdistan Workers Party\n",
      "51936\tDugard\tHamas\n",
      "52055\tal-Shaalan\tthe Jaish Mohammed\n",
      "52248\tUlrich Wilhelm\tNATO\n",
      "52328\tMohammad Osmani\tTaleban\n",
      "52337\tRebels\tEl-Fasher\n",
      "52414\tKazem Jalali\tForeign Policy and National Security Committee\n",
      "52988\tBush\tthe U.S. Justice Department\n",
      "53075\tRafsanjani\tthe Expediency Council\n",
      "53168\tNawaz Sharif\tthe Pakistan Muslim League\n",
      "53588\tTupamaros\tUruguay\n",
      "53655\tMladjen Kenjic\tGeneral Ratko Mladic\n",
      "53680\tBush\tthe Central Intelligence Agency\n",
      "53701\tSalam FAYYAD\tPA\n",
      "53885\tTa Mok\tTuol Sleng\n",
      "54027\tRene Preval\tJean-Bertrand Aristide\n",
      "54055\tAbdel Hussein al-Hindawi\tthe United Nations\n",
      "54098\tAhmet Turk\tKurdish Democratic Society Party\n",
      "54220\tNdjabu\tIntegrationist Front\n",
      "54298\tGhazi Aridi\tHezbollah\n",
      "54359\tHu\tCPPCC\n",
      "54361\tTung\tCPPCC\n",
      "54502\tCheney\tSenate\n",
      "55036\tFrancisco Flores\tthe Organization of America States\n",
      "55096\tAriel Sharon\tthe Palestinian Authority\n",
      "55115\tRaul Reyes\tFARC\n",
      "55276\tInforadio\tthe U.N. Security Council\n",
      "55897\tVladimir Putin\tKremlin\n",
      "56008\tMahmoud Abbas\tHamas\n",
      "56011\tAbbas\tHamas\n",
      "56028\tMahmud Abbas\tHamas\n",
      "56041\tMadrazo\tPRI\n",
      "56073\tRadovan Karadzic\tRatko Mladic\n",
      "56276\tBush\tthe State Department\n",
      "56626\tNicolas Schmit\tEU\n",
      "56666\tGhalib Abdul Hussein Kubba\tthe Basra International Bank\n",
      "56769\tMichael Scheuer\tCIA\n",
      "57003\tChirac\tEU\n",
      "57127\tPeter Feith\tEU\n",
      "57266\tTim Harcourt\tthe Australian Trade Commission\n",
      "57350\tGene Sperling\tthe National Economic Council\n",
      "57378\tal-Baghdadi\tal-Qaida\n",
      "57396\tUgandan Lord's\tthe International Criminal Court\n",
      "57869\tHamid Karzai\tIndependent Election Commission\n",
      "57983\tBush\tthe World Health Organization\n",
      "57989\tFrenk Guni\tManagement Systems International\n",
      "58001\tBush\tCongress\n",
      "58191\tChavez\tRadio Caracas Television\n",
      "58378\tUribe\tFARC\n",
      "58399\tSergei Ivanov\tNATO\n",
      "58576\tChirac\tEU\n",
      "58639\tBush\tthe State Department\n",
      "58860\tAli Shah Ahmadza\tTaleban\n",
      "59039\tAbdullah Gul\tthe European Union\n",
      "59063\tMalcolm Rifkind\tthe Conservative Party\n",
      "59364\tSilvan Shalom\tCabinet\n",
      "59366\tNetanyahu\tLikud\n",
      "59443\tMikhail Khodorkovsky\tYukos\n",
      "60109\tHersh\tPentagon\n",
      "60181\tBalkanende\tEU\n",
      "60192\tValdas Adamkus\tEU\n",
      "60240\tGarang\tNew Site\n",
      "60317\tWen Jiabao\tState\n",
      "60412\tBush\tMedicare\n",
      "60729\tDavid Petraeus\tthe U.S. Central Command\n",
      "60751\tHugo Chavez\tCabinet\n",
      "60761\tAlito\tSenate\n",
      "60762\tJacques Chirac\tHamas\n",
      "60847\tMir Hossein\tIslam\n",
      "60858\tClaire Buchan\tSecret Service\n",
      "61017\tNour\tal-Ghad\n",
      "61023\tDominique McAdams\tU.N.\n",
      "61335\tStephen Chu\tthe Lawrence Berkeley National Laboratory\n",
      "61337\tLisa Jackson\tthe Environmental Protection Agency\n",
      "61340\tJackson\tEPA\n",
      "61468\tBan\tU.N\n",
      "61469\tBan\tNATO\n",
      "61476\tBashir\tthe International Criminal Court\n",
      "61627\tM. Morshed Khan\tthe United Nations\n",
      "61628\tKhartoum\tthe Sudan People's Liberation Movement\n"
     ]
    }
   ],
   "source": [
    "for i, person, org in sorted(extracted):\n",
    "    print(\"{}\\t{}\\t{}\".format(i, person, org))"
   ]
  },
  {
   "cell_type": "markdown",
   "metadata": {},
   "source": [
    "## Problem 2: Evaluate your system"
   ]
  },
  {
   "cell_type": "markdown",
   "metadata": {},
   "source": [
    "You now have an extractor, but how good is it? To help you answer this question, we provide you with a &lsquo;gold standard&rsquo; of entity pairs that your system should be able to extract. The following code loads them (again augmented with the relevant sentence id) from the file `gold.txt` and adds them to the set `gold`:"
   ]
  },
  {
   "cell_type": "code",
   "execution_count": 113,
   "metadata": {},
   "outputs": [
    {
     "name": "stdout",
     "output_type": "stream",
     "text": [
      "46\n"
     ]
    }
   ],
   "source": [
    "gold_file = \"gold.txt\"\n",
    "\n",
    "gold = set()\n",
    "with open(gold_file) as fp:\n",
    "    for line in fp:\n",
    "        columns = line.rstrip().split('\\t')\n",
    "        gold.add((int(columns[0]), columns[1], columns[2]))\n",
    "        \n",
    "print(len(gold))"
   ]
  },
  {
   "cell_type": "markdown",
   "metadata": {},
   "source": [
    "The following code prints the 10&nbsp;first pairs from the gold standard:"
   ]
  },
  {
   "cell_type": "code",
   "execution_count": 114,
   "metadata": {},
   "outputs": [
    {
     "name": "stdout",
     "output_type": "stream",
     "text": [
      "802\tAli Zardari\tPakistan People 's Party\n",
      "2297\tAbdul Aziz al-Hakim\tSupreme Council\n",
      "4823\tSlavkov\tBulgarian National Olympic Committee\n",
      "7902\tMr. Hakim\tSupreme Council\n",
      "8206\tJ. Patrick Boyle\tAmerican Meat Institute\n",
      "8633\tAli Rodriguez\tPetroleos de Venezuela\n",
      "9004\tForeign Minister Joschka Fischer\tGreen Party\n",
      "11021\tKhalaf\tal-Qaida\n",
      "11259\tJoseph Domenech\tU.N. 's Food and Agricultural Organization\n",
      "13043\tDavid Petraeus\tU.S. Central Command\n"
     ]
    }
   ],
   "source": [
    "for i, person, org in sorted(gold)[:10]:\n",
    "    print(\"{}\\t{}\\t{}\".format(i, person, org))"
   ]
  },
  {
   "cell_type": "markdown",
   "metadata": {},
   "source": [
    "Your task now is to write code that computes the precision, recall, and F1 measure of your extractor relative to the gold standard."
   ]
  },
  {
   "cell_type": "code",
   "execution_count": 126,
   "metadata": {},
   "outputs": [],
   "source": [
    "def evaluate(reference, predicted):\n",
    "    \"\"\"Print out the precision, recall, and F1 for the id-entity-entity\n",
    "    triples in the set `predicted`, given the triples in the reference set.\n",
    "    \n",
    "    Args:\n",
    "        reference: The reference set of triples.\n",
    "        predicted: The set of predicted triples.\n",
    "    Returns:\n",
    "        Nothing, but prints out precision, recall, and F1.\n",
    "    \"\"\"\n",
    "    \n",
    "    # compute the number of relevant association found\n",
    "    pairs_found = 0\n",
    "    \n",
    "    for pair in sorted(gold):\n",
    "        if pair in extracted :\n",
    "            pairs_found = pairs_found + 1\n",
    "    \n",
    "    indice = []\n",
    "    for (ind,pers,org) in sorted(extracted):\n",
    "        indice.append(ind)\n",
    "    \n",
    "    for (i,pers,org) in sorted(gold):\n",
    "        if i in indice :\n",
    "            pairs_found = pairs_found + 1\n",
    "    \n",
    "            \n",
    "    precision = pairs_found/len(extracted)\n",
    "    recall = pairs_found/len(gold)\n",
    "    if precision + recall != 0 :\n",
    "        F1 = 2*(precision*recall)/(precision + recall)\n",
    "    else  :\n",
    "        F1 = None\n",
    "\n",
    "    print(\"Precision : {}\".format(precision))\n",
    "    print(\"Recall : {}\".format(recall))\n",
    "    print(\"F1 : {}\".format(F1))"
   ]
  },
  {
   "cell_type": "markdown",
   "metadata": {},
   "source": [
    "The next cell shows how your function is intended to be used, as well as the suggested output format."
   ]
  },
  {
   "cell_type": "code",
   "execution_count": 127,
   "metadata": {},
   "outputs": [
    {
     "name": "stdout",
     "output_type": "stream",
     "text": [
      "Precision : 0.06982543640897755\n",
      "Recall : 0.6086956521739131\n",
      "F1 : 0.12527964205816555\n"
     ]
    }
   ],
   "source": [
    "evaluate(gold, extracted)"
   ]
  },
  {
   "cell_type": "markdown",
   "metadata": {},
   "source": [
    "## Problem 3: Entity resolution"
   ]
  },
  {
   "cell_type": "markdown",
   "metadata": {},
   "source": [
    "Looking at the results of your quantitative evaluation, you will realise that your extractor (probably) does a rather poor job in matching the gold standard. One reason for this is that the NLP preprocessing is not perfect (spaCy was not trained on the annotations in the Groningen Meaning Bank), and that the approach of using regular expressions for relation extraction is rather naive.\n",
    "\n",
    "Another reason however is that the current version of your system does not include a component for *entity resolution*. To give an example, your system does not realise that the strings `David Petraeus` and `General David Petraeus` refer to the same entity.\n",
    "\n",
    "While writing an entity resolver is beyond the scope of this assignment, we ask you to *simulate* such a resolver. More specifically, you should implement a function `normalise` that takes an entity mention (a string) as its input and rewrites it to the form used in the gold standard. While in some sense this is &lsquo;cheating&rsquo;, it allows you to assess the performance of a more realistic system.\n",
    "\n",
    "The following cell contains skeleton code for the `normalise` function."
   ]
  },
  {
   "cell_type": "code",
   "execution_count": null,
   "metadata": {
    "collapsed": true
   },
   "outputs": [],
   "source": [
    "def normalise(text):\n",
    "    if text == \"David Petraeus\":\n",
    "        return \"General David Petraeus\"\n",
    "    return text"
   ]
  },
  {
   "cell_type": "markdown",
   "metadata": {},
   "source": [
    "The next cell shows how `normalise` is intended to be used. Each triple in the set `extracted` is transformed by feeding the two entity mentions into the `normalise` function. The normalised triples are then added to a new set `extracted_normalised`."
   ]
  },
  {
   "cell_type": "code",
   "execution_count": null,
   "metadata": {
    "collapsed": true
   },
   "outputs": [],
   "source": [
    "extracted_normalised = set()\n",
    "for triple in extracted:\n",
    "    extracted_normalised.add((triple[0], normalise(triple[1]), normalise(triple[2])))"
   ]
  },
  {
   "cell_type": "markdown",
   "metadata": {},
   "source": [
    "To pass the assignment, you should add enough normalisation rules to `normalise` to achieve a recall of at least 50%."
   ]
  },
  {
   "cell_type": "code",
   "execution_count": null,
   "metadata": {
    "collapsed": true
   },
   "outputs": [],
   "source": [
    "evaluate(gold, extracted_normalised)"
   ]
  },
  {
   "cell_type": "markdown",
   "metadata": {},
   "source": [
    "## Problem 4: Limitations of the gold standard"
   ]
  },
  {
   "cell_type": "markdown",
   "metadata": {},
   "source": [
    "Each entity pair in the gold standard has been manually checked for correctness. However, there is no guarantee that the gold standard contains all relevant pairs &ndash; there are in fact many pairs that are missing from the gold standard. Your last task in this assignment is to find at least 5&nbsp;entity pairs in the data that are valid instances of the &lsquo;is-leader-of&rsquo; relation but are not contained in the gold standard.\n",
    "\n",
    "You can solve this task either by writing code or by manual work (inspecting the data file), or mix the two strategies. In any case, you should enter your pairs in the textbox below. Use the triple format shown above where for each pair you also specify the sentence id (line number in the data file) from which the instance was extracted."
   ]
  },
  {
   "cell_type": "raw",
   "metadata": {},
   "source": [
    "sentence_id    entity 1    entity 2"
   ]
  },
  {
   "cell_type": "markdown",
   "metadata": {},
   "source": [
    "Finally we ask you to reflect on the limitations of the evaluation that you carried out in this lab and discuss the question: *How should systems for information extraction really be evaluated?*. Here are some starting points for your discussion.\n",
    "\n",
    "* How could one create a better gold standard for this task?\n",
    "* What do precision, recall, and F1 actually measure in this context?\n",
    "* What measures would be more suitable to evaluate this task?\n",
    "* What other ways of evaluating systems for information extraction can you think of?\n",
    "\n",
    "Submit your discussion as a short text (ca. 250&nbsp;words). When presenting your arguments, link back to your own results and experience from this lab, and to concepts you have learned in the lectures or in other parts of the course."
   ]
  },
  {
   "cell_type": "markdown",
   "metadata": {},
   "source": [
    "*TODO: Enter your discussion here*"
   ]
  },
  {
   "cell_type": "markdown",
   "metadata": {},
   "source": [
    "This is the end of the assignment."
   ]
  }
 ],
 "metadata": {
  "kernelspec": {
   "display_name": "Python 3",
   "language": "python",
   "name": "python3"
  },
  "language_info": {
   "codemirror_mode": {
    "name": "ipython",
    "version": 3
   },
   "file_extension": ".py",
   "mimetype": "text/x-python",
   "name": "python",
   "nbconvert_exporter": "python",
   "pygments_lexer": "ipython3",
   "version": "3.6.2"
  }
 },
 "nbformat": 4,
 "nbformat_minor": 2
}
